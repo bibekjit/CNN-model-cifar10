{
 "cells": [
  {
   "cell_type": "code",
   "execution_count": 1,
   "id": "30198158",
   "metadata": {},
   "outputs": [],
   "source": [
    "from tensorflow.keras.datasets import cifar10\n",
    "import numpy as np\n",
    "import pandas as pd\n",
    "\n",
    "(xtrain,ytrain),(xtest,ytest)=cifar10.load_data()\n",
    "\n",
    "xtrain.shape,ytrain.shape\n",
    "ytrain,ytest=ytrain.flatten(),ytest.flatten()\n",
    "\n",
    "xtrain=xtrain/255.0\n",
    "xtest=xtest/255.0\n",
    "\n",
    "BATCH_SIZE=64\n",
    "EPOCHS=30"
   ]
  },
  {
   "cell_type": "code",
   "execution_count": 2,
   "id": "f7ff2782",
   "metadata": {},
   "outputs": [
    {
     "name": "stdout",
     "output_type": "stream",
     "text": [
      "Model: \"sequential\"\n",
      "_________________________________________________________________\n",
      " Layer (type)                Output Shape              Param #   \n",
      "=================================================================\n",
      " conv2d (Conv2D)             (None, 32, 32, 64)        1792      \n",
      "                                                                 \n",
      " batch_normalization (BatchN  (None, 32, 32, 64)       256       \n",
      " ormalization)                                                   \n",
      "                                                                 \n",
      " conv2d_1 (Conv2D)           (None, 32, 32, 64)        36928     \n",
      "                                                                 \n",
      " batch_normalization_1 (Batc  (None, 32, 32, 64)       256       \n",
      " hNormalization)                                                 \n",
      "                                                                 \n",
      " average_pooling2d (AverageP  (None, 16, 16, 64)       0         \n",
      " ooling2D)                                                       \n",
      "                                                                 \n",
      " dropout (Dropout)           (None, 16, 16, 64)        0         \n",
      "                                                                 \n",
      " conv2d_2 (Conv2D)           (None, 16, 16, 128)       73856     \n",
      "                                                                 \n",
      " batch_normalization_2 (Batc  (None, 16, 16, 128)      512       \n",
      " hNormalization)                                                 \n",
      "                                                                 \n",
      " conv2d_3 (Conv2D)           (None, 16, 16, 128)       147584    \n",
      "                                                                 \n",
      " batch_normalization_3 (Batc  (None, 16, 16, 128)      512       \n",
      " hNormalization)                                                 \n",
      "                                                                 \n",
      " average_pooling2d_1 (Averag  (None, 8, 8, 128)        0         \n",
      " ePooling2D)                                                     \n",
      "                                                                 \n",
      " dropout_1 (Dropout)         (None, 8, 8, 128)         0         \n",
      "                                                                 \n",
      " conv2d_4 (Conv2D)           (None, 8, 8, 256)         295168    \n",
      "                                                                 \n",
      " batch_normalization_4 (Batc  (None, 8, 8, 256)        1024      \n",
      " hNormalization)                                                 \n",
      "                                                                 \n",
      " conv2d_5 (Conv2D)           (None, 8, 8, 256)         590080    \n",
      "                                                                 \n",
      " batch_normalization_5 (Batc  (None, 8, 8, 256)        1024      \n",
      " hNormalization)                                                 \n",
      "                                                                 \n",
      " average_pooling2d_2 (Averag  (None, 4, 4, 256)        0         \n",
      " ePooling2D)                                                     \n",
      "                                                                 \n",
      " dropout_2 (Dropout)         (None, 4, 4, 256)         0         \n",
      "                                                                 \n",
      " global_max_pooling2d (Globa  (None, 256)              0         \n",
      " lMaxPooling2D)                                                  \n",
      "                                                                 \n",
      " dropout_3 (Dropout)         (None, 256)               0         \n",
      "                                                                 \n",
      " dense (Dense)               (None, 1024)              263168    \n",
      "                                                                 \n",
      " dense_1 (Dense)             (None, 10)                10250     \n",
      "                                                                 \n",
      "=================================================================\n",
      "Total params: 1,422,410\n",
      "Trainable params: 1,420,618\n",
      "Non-trainable params: 1,792\n",
      "_________________________________________________________________\n",
      "None\n"
     ]
    },
    {
     "name": "stderr",
     "output_type": "stream",
     "text": [
      "2022-02-24 02:43:37.180032: I tensorflow/stream_executor/cuda/cuda_gpu_executor.cc:939] successful NUMA node read from SysFS had negative value (-1), but there must be at least one NUMA node, so returning NUMA node zero\n",
      "2022-02-24 02:43:37.186547: I tensorflow/stream_executor/cuda/cuda_gpu_executor.cc:939] successful NUMA node read from SysFS had negative value (-1), but there must be at least one NUMA node, so returning NUMA node zero\n",
      "2022-02-24 02:43:37.186925: I tensorflow/stream_executor/cuda/cuda_gpu_executor.cc:939] successful NUMA node read from SysFS had negative value (-1), but there must be at least one NUMA node, so returning NUMA node zero\n",
      "2022-02-24 02:43:37.187790: I tensorflow/core/platform/cpu_feature_guard.cc:151] This TensorFlow binary is optimized with oneAPI Deep Neural Network Library (oneDNN) to use the following CPU instructions in performance-critical operations:  AVX2 FMA\n",
      "To enable them in other operations, rebuild TensorFlow with the appropriate compiler flags.\n",
      "2022-02-24 02:43:37.213244: I tensorflow/stream_executor/cuda/cuda_gpu_executor.cc:939] successful NUMA node read from SysFS had negative value (-1), but there must be at least one NUMA node, so returning NUMA node zero\n",
      "2022-02-24 02:43:37.213723: I tensorflow/stream_executor/cuda/cuda_gpu_executor.cc:939] successful NUMA node read from SysFS had negative value (-1), but there must be at least one NUMA node, so returning NUMA node zero\n",
      "2022-02-24 02:43:37.214096: I tensorflow/stream_executor/cuda/cuda_gpu_executor.cc:939] successful NUMA node read from SysFS had negative value (-1), but there must be at least one NUMA node, so returning NUMA node zero\n",
      "2022-02-24 02:43:37.654221: I tensorflow/stream_executor/cuda/cuda_gpu_executor.cc:939] successful NUMA node read from SysFS had negative value (-1), but there must be at least one NUMA node, so returning NUMA node zero\n",
      "2022-02-24 02:43:37.654582: I tensorflow/stream_executor/cuda/cuda_gpu_executor.cc:939] successful NUMA node read from SysFS had negative value (-1), but there must be at least one NUMA node, so returning NUMA node zero\n",
      "2022-02-24 02:43:37.654886: I tensorflow/stream_executor/cuda/cuda_gpu_executor.cc:939] successful NUMA node read from SysFS had negative value (-1), but there must be at least one NUMA node, so returning NUMA node zero\n",
      "2022-02-24 02:43:37.655177: I tensorflow/core/common_runtime/gpu/gpu_device.cc:1525] Created device /job:localhost/replica:0/task:0/device:GPU:0 with 4277 MB memory:  -> device: 0, name: NVIDIA GeForce RTX 2060, pci bus id: 0000:01:00.0, compute capability: 7.5\n"
     ]
    }
   ],
   "source": [
    "from tensorflow.keras.models import Sequential\n",
    "from tensorflow.keras.layers import Dense,Dropout,BatchNormalization,GlobalMaxPooling2D,Conv2D,AveragePooling2D\n",
    "from tensorflow.keras.callbacks import LearningRateScheduler\n",
    "\n",
    "model=Sequential()\n",
    "\n",
    "model.add(Conv2D(64,(3,3),activation='relu',input_shape=xtrain[0].shape,padding='same'))\n",
    "model.add(BatchNormalization())\n",
    "model.add(Conv2D(64,(3,3),activation='relu',padding='same'))\n",
    "model.add(BatchNormalization())\n",
    "model.add(AveragePooling2D((2,2)))\n",
    "model.add(Dropout(0.4))\n",
    "\n",
    "model.add(Conv2D(128,(3,3),activation='relu',padding='same'))\n",
    "model.add(BatchNormalization())\n",
    "model.add(Conv2D(128,(3,3),activation='relu',padding='same'))\n",
    "model.add(BatchNormalization())\n",
    "model.add(AveragePooling2D((2,2)))\n",
    "model.add(Dropout(0.4))\n",
    "\n",
    "model.add(Conv2D(256,(3,3),activation='relu',padding='same'))\n",
    "model.add(BatchNormalization())\n",
    "model.add(Conv2D(256,(3,3),activation='relu',padding='same'))\n",
    "model.add(BatchNormalization())\n",
    "model.add(AveragePooling2D((2,2)))\n",
    "model.add(Dropout(0.4))\n",
    "\n",
    "model.add(GlobalMaxPooling2D())\n",
    "model.add(Dropout(0.4))\n",
    "model.add(Dense(1024,activation='relu'))\n",
    "model.add(Dense(10,activation='softmax'))\n",
    "\n",
    "print(model.summary())"
   ]
  },
  {
   "cell_type": "code",
   "execution_count": 3,
   "id": "41684a25",
   "metadata": {},
   "outputs": [
    {
     "name": "stderr",
     "output_type": "stream",
     "text": [
      "2022-02-24 02:43:38.215898: W tensorflow/core/framework/cpu_allocator_impl.cc:82] Allocation of 614400000 exceeds 10% of free system memory.\n",
      "2022-02-24 02:43:38.587802: W tensorflow/core/framework/cpu_allocator_impl.cc:82] Allocation of 614400000 exceeds 10% of free system memory.\n"
     ]
    },
    {
     "name": "stdout",
     "output_type": "stream",
     "text": [
      "Epoch 1/30\n"
     ]
    },
    {
     "name": "stderr",
     "output_type": "stream",
     "text": [
      "2022-02-24 02:43:40.101265: I tensorflow/stream_executor/cuda/cuda_dnn.cc:366] Loaded cuDNN version 8101\n"
     ]
    },
    {
     "name": "stdout",
     "output_type": "stream",
     "text": [
      "781/781 [==============================] - 19s 20ms/step - loss: 1.5568 - accuracy: 0.4417 - val_loss: 1.4810 - val_accuracy: 0.4709 - lr: 0.0010\n",
      "Epoch 2/30\n",
      "781/781 [==============================] - 16s 20ms/step - loss: 1.0752 - accuracy: 0.6124 - val_loss: 0.9364 - val_accuracy: 0.6705 - lr: 0.0010\n",
      "Epoch 3/30\n",
      "781/781 [==============================] - 16s 20ms/step - loss: 0.8874 - accuracy: 0.6841 - val_loss: 0.8046 - val_accuracy: 0.7223 - lr: 0.0010\n",
      "Epoch 4/30\n",
      "781/781 [==============================] - 16s 20ms/step - loss: 0.7676 - accuracy: 0.7331 - val_loss: 0.8098 - val_accuracy: 0.7250 - lr: 0.0010\n",
      "Epoch 5/30\n",
      "781/781 [==============================] - 16s 20ms/step - loss: 0.6874 - accuracy: 0.7624 - val_loss: 0.7468 - val_accuracy: 0.7507 - lr: 0.0010\n",
      "Epoch 6/30\n",
      "781/781 [==============================] - 16s 20ms/step - loss: 0.6301 - accuracy: 0.7829 - val_loss: 0.5526 - val_accuracy: 0.8125 - lr: 0.0010\n",
      "Epoch 7/30\n",
      "781/781 [==============================] - 17s 22ms/step - loss: 0.5019 - accuracy: 0.8290 - val_loss: 0.4692 - val_accuracy: 0.8432 - lr: 4.0000e-04\n",
      "Epoch 8/30\n",
      "781/781 [==============================] - 17s 21ms/step - loss: 0.4603 - accuracy: 0.8419 - val_loss: 0.4453 - val_accuracy: 0.8488 - lr: 4.0000e-04\n",
      "Epoch 9/30\n",
      "781/781 [==============================] - 19s 24ms/step - loss: 0.4309 - accuracy: 0.8528 - val_loss: 0.4477 - val_accuracy: 0.8504 - lr: 4.0000e-04\n",
      "Epoch 10/30\n",
      "781/781 [==============================] - 19s 24ms/step - loss: 0.4159 - accuracy: 0.8565 - val_loss: 0.4574 - val_accuracy: 0.8458 - lr: 4.0000e-04\n",
      "Epoch 11/30\n",
      "781/781 [==============================] - 17s 22ms/step - loss: 0.3928 - accuracy: 0.8645 - val_loss: 0.4254 - val_accuracy: 0.8566 - lr: 4.0000e-04\n",
      "Epoch 12/30\n",
      "781/781 [==============================] - 17s 22ms/step - loss: 0.3775 - accuracy: 0.8694 - val_loss: 0.4104 - val_accuracy: 0.8620 - lr: 4.0000e-04\n",
      "Epoch 13/30\n",
      "781/781 [==============================] - 18s 23ms/step - loss: 0.3647 - accuracy: 0.8737 - val_loss: 0.4446 - val_accuracy: 0.8521 - lr: 4.0000e-04\n",
      "Epoch 14/30\n",
      "781/781 [==============================] - 17s 22ms/step - loss: 0.3467 - accuracy: 0.8809 - val_loss: 0.4120 - val_accuracy: 0.8613 - lr: 4.0000e-04\n",
      "Epoch 15/30\n",
      "781/781 [==============================] - 17s 21ms/step - loss: 0.3349 - accuracy: 0.8838 - val_loss: 0.3973 - val_accuracy: 0.8645 - lr: 4.0000e-04\n",
      "Epoch 16/30\n",
      "781/781 [==============================] - 17s 22ms/step - loss: 0.2853 - accuracy: 0.9006 - val_loss: 0.3579 - val_accuracy: 0.8819 - lr: 6.0000e-05\n",
      "Epoch 17/30\n",
      "781/781 [==============================] - 19s 24ms/step - loss: 0.2704 - accuracy: 0.9058 - val_loss: 0.3655 - val_accuracy: 0.8792 - lr: 6.0000e-05\n",
      "Epoch 18/30\n",
      "781/781 [==============================] - 18s 23ms/step - loss: 0.2613 - accuracy: 0.9090 - val_loss: 0.3601 - val_accuracy: 0.8834 - lr: 6.0000e-05\n",
      "Epoch 19/30\n",
      "781/781 [==============================] - 18s 23ms/step - loss: 0.2535 - accuracy: 0.9099 - val_loss: 0.3575 - val_accuracy: 0.8826 - lr: 6.0000e-05\n",
      "Epoch 20/30\n",
      "781/781 [==============================] - 18s 23ms/step - loss: 0.2528 - accuracy: 0.9115 - val_loss: 0.3590 - val_accuracy: 0.8823 - lr: 6.0000e-05\n",
      "Epoch 21/30\n",
      "781/781 [==============================] - 17s 22ms/step - loss: 0.2433 - accuracy: 0.9147 - val_loss: 0.3578 - val_accuracy: 0.8825 - lr: 6.0000e-05\n",
      "Epoch 22/30\n",
      "781/781 [==============================] - 17s 22ms/step - loss: 0.2413 - accuracy: 0.9152 - val_loss: 0.3639 - val_accuracy: 0.8832 - lr: 6.0000e-05\n",
      "Epoch 23/30\n",
      "781/781 [==============================] - 18s 23ms/step - loss: 0.2357 - accuracy: 0.9178 - val_loss: 0.3556 - val_accuracy: 0.8848 - lr: 6.0000e-05\n",
      "Epoch 24/30\n",
      "781/781 [==============================] - 19s 24ms/step - loss: 0.2301 - accuracy: 0.9207 - val_loss: 0.3534 - val_accuracy: 0.8836 - lr: 1.0000e-05\n",
      "Epoch 25/30\n",
      "781/781 [==============================] - 19s 25ms/step - loss: 0.2290 - accuracy: 0.9190 - val_loss: 0.3522 - val_accuracy: 0.8846 - lr: 1.0000e-05\n",
      "Epoch 26/30\n",
      "781/781 [==============================] - 18s 24ms/step - loss: 0.2270 - accuracy: 0.9199 - val_loss: 0.3529 - val_accuracy: 0.8843 - lr: 1.0000e-05\n",
      "Epoch 27/30\n",
      "781/781 [==============================] - 18s 23ms/step - loss: 0.2276 - accuracy: 0.9194 - val_loss: 0.3533 - val_accuracy: 0.8843 - lr: 1.0000e-05\n",
      "Epoch 28/30\n",
      "781/781 [==============================] - 17s 22ms/step - loss: 0.2267 - accuracy: 0.9203 - val_loss: 0.3555 - val_accuracy: 0.8838 - lr: 1.0000e-05\n",
      "Epoch 29/30\n",
      "781/781 [==============================] - 17s 22ms/step - loss: 0.2269 - accuracy: 0.9210 - val_loss: 0.3521 - val_accuracy: 0.8850 - lr: 1.0000e-05\n",
      "Epoch 30/30\n",
      "781/781 [==============================] - 18s 23ms/step - loss: 0.2216 - accuracy: 0.9214 - val_loss: 0.3556 - val_accuracy: 0.8839 - lr: 1.0000e-05\n"
     ]
    },
    {
     "data": {
      "text/plain": [
       "<keras.callbacks.History at 0x7f043d587d90>"
      ]
     },
     "execution_count": 3,
     "metadata": {},
     "output_type": "execute_result"
    }
   ],
   "source": [
    "def scheduler(epoch,lr):\n",
    "    if epoch<6:\n",
    "        lr=0.001\n",
    "    elif 6<=epoch<15:\n",
    "        lr=0.0004\n",
    "    elif 15<=epoch<23:\n",
    "        lr=0.00006\n",
    "    \n",
    "    else :\n",
    "        lr=0.00001\n",
    "        \n",
    "    return lr\n",
    "\n",
    "lr_scheduler=LearningRateScheduler(scheduler)\n",
    "\n",
    "model.compile(loss='sparse_categorical_crossentropy',\n",
    "              optimizer=\"adam\",\n",
    "              metrics=['accuracy'])\n",
    "\n",
    "model.fit(xtrain,ytrain,\n",
    "          epochs=EPOCHS,\n",
    "          validation_data=(xtest,ytest),\n",
    "          batch_size=BATCH_SIZE,\n",
    "          steps_per_epoch=int(len(xtrain)/BATCH_SIZE),\n",
    "          callbacks=[lr_scheduler])"
   ]
  },
  {
   "cell_type": "code",
   "execution_count": 4,
   "id": "b4419b54",
   "metadata": {},
   "outputs": [
    {
     "data": {
      "text/plain": [
       "<AxesSubplot:>"
      ]
     },
     "execution_count": 4,
     "metadata": {},
     "output_type": "execute_result"
    },
    {
     "data": {
      "image/png": "[encoded data removed]",
      "text/plain": [
       "<Figure size 432x288 with 1 Axes>"
      ]
     },
     "metadata": {
      "needs_background": "light"
     },
     "output_type": "display_data"
    },
    {
     "data": {
      "image/png": "[encoded data removed]",
      "text/plain": [
       "<Figure size 432x288 with 1 Axes>"
      ]
     },
     "metadata": {
      "needs_background": "light"
     },
     "output_type": "display_data"
    }
   ],
   "source": [
    "pd.DataFrame(model.history.history)[['loss','val_loss']].plot()\n",
    "pd.DataFrame(model.history.history)[['accuracy','val_accuracy']].plot()"
   ]
  },
  {
   "cell_type": "code",
   "execution_count": null,
   "id": "1b8d6c02",
   "metadata": {},
   "outputs": [],
   "source": [
    "pred=model.predict(xtest)"
   ]
  },
  {
   "cell_type": "code",
   "execution_count": null,
   "id": "14fff2b8",
   "metadata": {},
   "outputs": [],
   "source": [
    "pred=[np.argmax(pred[i]) for i in range(len(pred))]"
   ]
  },
  {
   "cell_type": "code",
   "execution_count": null,
   "id": "c2fa1e73",
   "metadata": {},
   "outputs": [],
   "source": [
    "classes=['airplane','car','bird','cat','deer','dog','frog','horse','ship','truck']"
   ]
  },
  {
   "cell_type": "code",
   "execution_count": null,
   "id": "b1e7530b",
   "metadata": {},
   "outputs": [],
   "source": [
    "from sklearn.metrics import confusion_matrix\n",
    "import seaborn as sb\n",
    "import matplotlib.pyplot as plt\n",
    "\n",
    "plt.figure(figsize=(10,8))\n",
    "sb.heatmap(confusion_matrix(ytest,pred),annot=True,cmap='Blues',fmt='d',xticklabels=classes,yticklabels=classes)\n",
    "plt.xlabel('actual')\n",
    "plt.ylabel('predicted')"
   ]
  },
  {
   "cell_type": "code",
   "execution_count": null,
   "id": "213e4703",
   "metadata": {},
   "outputs": [],
   "source": []
  }
 ],
 "metadata": {
  "kernelspec": {
   "display_name": "Python 3 (ipykernel)",
   "language": "python",
   "name": "python3"
  },
  "language_info": {
   "codemirror_mode": {
    "name": "ipython",
    "version": 3
   },
   "file_extension": ".py",
   "mimetype": "text/x-python",
   "name": "python",
   "nbconvert_exporter": "python",
   "pygments_lexer": "ipython3",
   "version": "3.8.10"
  }
 },
 "nbformat": 4,
 "nbformat_minor": 5
}
