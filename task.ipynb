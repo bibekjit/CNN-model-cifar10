{
 "cells": [
  {
   "cell_type": "code",
   "execution_count": 1,
   "id": "e884b13d",
   "metadata": {},
   "outputs": [],
   "source": [
    "from tensorflow.keras.datasets import cifar10\n",
    "import numpy as np\n",
    "import pandas as pd\n",
    "\n",
    "(xtrain,ytrain),(xtest,ytest)=cifar10.load_data()\n",
    "\n",
    "xtrain.shape,ytrain.shape\n",
    "ytrain,ytest=ytrain.flatten(),ytest.flatten()\n",
    "\n",
    "xtrain=xtrain/255.0\n",
    "xtest=xtest/255.0"
   ]
  },
  {
   "cell_type": "code",
   "execution_count": 2,
   "id": "afd86441",
   "metadata": {},
   "outputs": [],
   "source": [
    "from tensorflow.keras.models import Sequential\n",
    "from tensorflow.keras.layers import Dense,Dropout,BatchNormalization,GlobalMaxPooling2D,MaxPooling2D,Conv2D\n",
    "from tensorflow.keras.optimizers import Adam,RMSprop\n",
    "from tensorflow.keras.layers import Activation\n",
    "\n",
    "model=Sequential()\n",
    "\n",
    "model.add(Conv2D(64,(3,3),activation='relu',input_shape=xtrain[0].shape,padding='same'))\n",
    "model.add(BatchNormalization())\n",
    "model.add(Conv2D(64,(3,3),activation='relu',padding='same'))\n",
    "model.add(BatchNormalization())\n",
    "model.add(MaxPooling2D((2,2)))\n",
    "model.add(Dropout(0.3))\n",
    "\n",
    "model.add(Conv2D(128,(3,3),activation='relu',padding='same'))\n",
    "model.add(BatchNormalization())\n",
    "model.add(Conv2D(128,(3,3),activation='relu',padding='same'))\n",
    "model.add(BatchNormalization())\n",
    "model.add(MaxPooling2D((2,2)))\n",
    "model.add(Dropout(0.3))\n",
    "\n",
    "model.add(Conv2D(256,(3,3),activation='relu',padding='same'))\n",
    "model.add(BatchNormalization())\n",
    "model.add(MaxPooling2D((2,2)))\n",
    "model.add(Conv2D(256,(3,3),activation='relu',padding='same'))\n",
    "model.add(BatchNormalization())\n",
    "model.add(MaxPooling2D((2,2)))\n",
    "model.add(Dropout(0.3))\n",
    "\n",
    "model.add(GlobalMaxPooling2D())\n",
    "model.add(Dropout(0.3))\n",
    "model.add(Dense(512,activation='relu'))\n",
    "model.add(Dropout(0.3))\n",
    "model.add(Dense(10,activation='softmax'))"
   ]
  },
  {
   "cell_type": "code",
   "execution_count": 3,
   "id": "f852e009",
   "metadata": {},
   "outputs": [
    {
     "name": "stdout",
     "output_type": "stream",
     "text": [
      "Epoch 1/50\n",
      "1563/1563 [==============================] - 25s 14ms/step - loss: 2.0736 - accuracy: 0.3095 - val_loss: 1.8209 - val_accuracy: 0.3670\n",
      "Epoch 2/50\n",
      "1563/1563 [==============================] - 21s 13ms/step - loss: 1.5010 - accuracy: 0.4510 - val_loss: 1.8319 - val_accuracy: 0.3941\n",
      "Epoch 3/50\n",
      "1563/1563 [==============================] - 21s 13ms/step - loss: 1.2752 - accuracy: 0.5391 - val_loss: 1.4907 - val_accuracy: 0.4835\n",
      "Epoch 4/50\n",
      "1563/1563 [==============================] - 21s 14ms/step - loss: 1.1206 - accuracy: 0.5960 - val_loss: 1.0667 - val_accuracy: 0.6258\n",
      "Epoch 5/50\n",
      "1563/1563 [==============================] - 22s 14ms/step - loss: 1.0107 - accuracy: 0.6388 - val_loss: 1.1237 - val_accuracy: 0.5992\n",
      "Epoch 6/50\n",
      "1563/1563 [==============================] - 23s 14ms/step - loss: 0.9167 - accuracy: 0.6756 - val_loss: 0.8238 - val_accuracy: 0.7107\n",
      "Epoch 7/50\n",
      "1563/1563 [==============================] - 22s 14ms/step - loss: 0.8419 - accuracy: 0.7038 - val_loss: 0.7816 - val_accuracy: 0.7288\n",
      "Epoch 8/50\n",
      "1563/1563 [==============================] - 22s 14ms/step - loss: 0.7825 - accuracy: 0.7256 - val_loss: 0.7168 - val_accuracy: 0.7505\n",
      "Epoch 9/50\n",
      "1563/1563 [==============================] - 22s 14ms/step - loss: 0.7295 - accuracy: 0.7459 - val_loss: 0.7020 - val_accuracy: 0.7571\n",
      "Epoch 10/50\n",
      "1563/1563 [==============================] - 22s 14ms/step - loss: 0.6851 - accuracy: 0.7611 - val_loss: 0.6630 - val_accuracy: 0.7733\n",
      "Epoch 11/50\n",
      "1563/1563 [==============================] - 22s 14ms/step - loss: 0.6500 - accuracy: 0.7739 - val_loss: 0.6368 - val_accuracy: 0.7805\n",
      "Epoch 12/50\n",
      "1563/1563 [==============================] - 23s 14ms/step - loss: 0.6079 - accuracy: 0.7891 - val_loss: 0.5773 - val_accuracy: 0.7978\n",
      "Epoch 13/50\n",
      "1563/1563 [==============================] - 23s 14ms/step - loss: 0.5779 - accuracy: 0.7985 - val_loss: 0.5606 - val_accuracy: 0.8075\n",
      "Epoch 14/50\n",
      "1563/1563 [==============================] - 23s 15ms/step - loss: 0.5434 - accuracy: 0.8103 - val_loss: 0.5563 - val_accuracy: 0.8118\n",
      "Epoch 15/50\n",
      "1563/1563 [==============================] - 22s 14ms/step - loss: 0.5189 - accuracy: 0.8189 - val_loss: 0.5352 - val_accuracy: 0.8176\n",
      "Epoch 16/50\n",
      "1563/1563 [==============================] - 23s 15ms/step - loss: 0.4971 - accuracy: 0.8277 - val_loss: 0.5244 - val_accuracy: 0.8262\n",
      "Epoch 17/50\n",
      "1563/1563 [==============================] - 23s 15ms/step - loss: 0.4749 - accuracy: 0.8346 - val_loss: 0.4981 - val_accuracy: 0.8307\n",
      "Epoch 18/50\n",
      "1563/1563 [==============================] - 23s 14ms/step - loss: 0.4549 - accuracy: 0.8426 - val_loss: 0.4763 - val_accuracy: 0.8359\n",
      "Epoch 19/50\n",
      "1563/1563 [==============================] - 23s 15ms/step - loss: 0.4344 - accuracy: 0.8497 - val_loss: 0.4856 - val_accuracy: 0.8372\n",
      "Epoch 20/50\n",
      "1563/1563 [==============================] - 23s 15ms/step - loss: 0.4156 - accuracy: 0.8542 - val_loss: 0.4816 - val_accuracy: 0.8374\n",
      "Epoch 21/50\n",
      "1563/1563 [==============================] - 23s 15ms/step - loss: 0.3940 - accuracy: 0.8632 - val_loss: 0.4832 - val_accuracy: 0.8383\n",
      "Epoch 22/50\n",
      "1563/1563 [==============================] - 23s 15ms/step - loss: 0.3798 - accuracy: 0.8698 - val_loss: 0.5145 - val_accuracy: 0.8275\n",
      "Epoch 23/50\n",
      "1563/1563 [==============================] - 23s 15ms/step - loss: 0.3671 - accuracy: 0.8736 - val_loss: 0.4774 - val_accuracy: 0.8405\n",
      "Epoch 24/50\n",
      "1563/1563 [==============================] - 23s 15ms/step - loss: 0.3523 - accuracy: 0.8789 - val_loss: 0.4445 - val_accuracy: 0.8492\n",
      "Epoch 25/50\n",
      "1563/1563 [==============================] - 23s 15ms/step - loss: 0.3374 - accuracy: 0.8824 - val_loss: 0.4863 - val_accuracy: 0.8391\n",
      "Epoch 26/50\n",
      "1563/1563 [==============================] - 23s 15ms/step - loss: 0.3218 - accuracy: 0.8880 - val_loss: 0.4602 - val_accuracy: 0.8490\n",
      "Epoch 27/50\n",
      "1563/1563 [==============================] - 23s 15ms/step - loss: 0.3114 - accuracy: 0.8891 - val_loss: 0.4464 - val_accuracy: 0.8546\n",
      "Epoch 28/50\n",
      "1563/1563 [==============================] - 23s 15ms/step - loss: 0.3013 - accuracy: 0.8936 - val_loss: 0.4801 - val_accuracy: 0.8452\n",
      "Epoch 29/50\n",
      "1563/1563 [==============================] - 23s 15ms/step - loss: 0.2930 - accuracy: 0.8971 - val_loss: 0.4994 - val_accuracy: 0.8406\n",
      "Epoch 30/50\n",
      "1563/1563 [==============================] - 23s 15ms/step - loss: 0.2852 - accuracy: 0.9005 - val_loss: 0.4492 - val_accuracy: 0.8577\n",
      "Epoch 31/50\n",
      "1563/1563 [==============================] - 23s 15ms/step - loss: 0.2728 - accuracy: 0.9044 - val_loss: 0.4146 - val_accuracy: 0.8634\n",
      "Epoch 32/50\n",
      "1563/1563 [==============================] - 23s 15ms/step - loss: 0.2644 - accuracy: 0.9072 - val_loss: 0.4812 - val_accuracy: 0.8537\n",
      "Epoch 33/50\n",
      "1563/1563 [==============================] - 23s 15ms/step - loss: 0.2555 - accuracy: 0.9121 - val_loss: 0.4536 - val_accuracy: 0.8605\n",
      "Epoch 34/50\n",
      "1563/1563 [==============================] - 23s 15ms/step - loss: 0.2466 - accuracy: 0.9125 - val_loss: 0.4190 - val_accuracy: 0.8679\n",
      "Epoch 35/50\n",
      "1563/1563 [==============================] - 23s 15ms/step - loss: 0.2396 - accuracy: 0.9163 - val_loss: 0.4874 - val_accuracy: 0.8503\n",
      "Epoch 36/50\n",
      "1563/1563 [==============================] - 23s 15ms/step - loss: 0.2314 - accuracy: 0.9186 - val_loss: 0.4551 - val_accuracy: 0.8610\n",
      "Epoch 37/50\n",
      "1563/1563 [==============================] - 23s 15ms/step - loss: 0.2252 - accuracy: 0.9206 - val_loss: 0.4469 - val_accuracy: 0.8614\n",
      "Epoch 38/50\n",
      "1563/1563 [==============================] - 23s 15ms/step - loss: 0.2241 - accuracy: 0.9220 - val_loss: 0.4157 - val_accuracy: 0.8679\n",
      "Epoch 39/50\n",
      "1563/1563 [==============================] - 23s 15ms/step - loss: 0.2132 - accuracy: 0.9253 - val_loss: 0.4828 - val_accuracy: 0.8571\n",
      "Epoch 40/50\n",
      "1563/1563 [==============================] - 23s 15ms/step - loss: 0.2034 - accuracy: 0.9288 - val_loss: 0.4246 - val_accuracy: 0.8731\n",
      "Epoch 41/50\n",
      "1563/1563 [==============================] - 23s 15ms/step - loss: 0.1998 - accuracy: 0.9296 - val_loss: 0.4628 - val_accuracy: 0.8608\n",
      "Epoch 42/50\n",
      "1563/1563 [==============================] - 23s 15ms/step - loss: 0.1934 - accuracy: 0.9314 - val_loss: 0.4470 - val_accuracy: 0.8684\n",
      "Epoch 43/50\n",
      "1563/1563 [==============================] - 23s 15ms/step - loss: 0.1880 - accuracy: 0.9336 - val_loss: 0.4683 - val_accuracy: 0.8620\n",
      "Epoch 44/50\n",
      "1563/1563 [==============================] - 23s 15ms/step - loss: 0.1881 - accuracy: 0.9340 - val_loss: 0.4747 - val_accuracy: 0.8581\n",
      "Epoch 45/50\n",
      "1563/1563 [==============================] - 23s 15ms/step - loss: 0.1806 - accuracy: 0.9362 - val_loss: 0.4382 - val_accuracy: 0.8702\n",
      "Epoch 46/50\n",
      "1563/1563 [==============================] - 23s 15ms/step - loss: 0.1757 - accuracy: 0.9367 - val_loss: 0.4527 - val_accuracy: 0.8728\n",
      "Epoch 47/50\n",
      "1563/1563 [==============================] - 23s 15ms/step - loss: 0.1708 - accuracy: 0.9399 - val_loss: 0.4902 - val_accuracy: 0.8576\n",
      "Epoch 48/50\n",
      "1563/1563 [==============================] - 23s 15ms/step - loss: 0.1682 - accuracy: 0.9407 - val_loss: 0.4687 - val_accuracy: 0.8639\n",
      "Epoch 49/50\n",
      "1563/1563 [==============================] - 23s 15ms/step - loss: 0.1637 - accuracy: 0.9423 - val_loss: 0.4452 - val_accuracy: 0.8755\n",
      "Epoch 50/50\n",
      "1563/1563 [==============================] - 23s 15ms/step - loss: 0.1573 - accuracy: 0.9441 - val_loss: 0.4831 - val_accuracy: 0.8630\n"
     ]
    },
    {
     "data": {
      "text/plain": [
       "<keras.callbacks.History at 0x222d3e95250>"
      ]
     },
     "execution_count": 3,
     "metadata": {},
     "output_type": "execute_result"
    }
   ],
   "source": [
    "adam=Adam(learning_rate=0.0001)\n",
    "\n",
    "model.compile(loss='sparse_categorical_crossentropy',optimizer=adam,metrics=['accuracy'])\n",
    "model.fit(xtrain,ytrain,epochs=50,validation_data=(xtest,ytest))"
   ]
  },
  {
   "cell_type": "code",
   "execution_count": 4,
   "id": "121e01a1",
   "metadata": {},
   "outputs": [
    {
     "data": {
      "text/plain": [
       "<AxesSubplot:>"
      ]
     },
     "execution_count": 4,
     "metadata": {},
     "output_type": "execute_result"
    },
    {
     "data": {
      "image/png": "[encoded data removed]",
      "text/plain": [
       "<Figure size 432x288 with 1 Axes>"
      ]
     },
     "metadata": {
      "needs_background": "light"
     },
     "output_type": "display_data"
    },
    {
     "data": {
      "image/png": "[encoded data removed]",
      "text/plain": [
       "<Figure size 432x288 with 1 Axes>"
      ]
     },
     "metadata": {
      "needs_background": "light"
     },
     "output_type": "display_data"
    }
   ],
   "source": [
    "pd.DataFrame(model.history.history)[['accuracy','val_accuracy']].plot()\n",
    "pd.DataFrame(model.history.history)[['loss','val_loss']].plot()"
   ]
  }
 ],
 "metadata": {
  "kernelspec": {
   "display_name": "Python 3",
   "language": "python",
   "name": "python3"
  },
  "language_info": {
   "codemirror_mode": {
    "name": "ipython",
    "version": 3
   },
   "file_extension": ".py",
   "mimetype": "text/x-python",
   "name": "python",
   "nbconvert_exporter": "python",
   "pygments_lexer": "ipython3",
   "version": "3.8.8"
  }
 },
 "nbformat": 4,
 "nbformat_minor": 5
}
