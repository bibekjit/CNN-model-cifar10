{
 "cells": [
  {
   "cell_type": "code",
   "execution_count": 1,
   "id": "e884b13d",
   "metadata": {},
   "outputs": [],
   "source": [
    "from tensorflow.keras.datasets import cifar10\n",
    "import numpy as np\n",
    "import pandas as pd\n",
    "\n",
    "(xtrain,ytrain),(xtest,ytest)=cifar10.load_data()\n",
    "\n",
    "xtrain.shape,ytrain.shape\n",
    "ytrain,ytest=ytrain.flatten(),ytest.flatten()\n",
    "\n",
    "xtrain=xtrain/255.0\n",
    "xtest=xtest/255.0\n",
    "\n",
    "# xtrain=xtrain[:,:,:,:1]\n",
    "# xtest=xtest[:,:,:,:1]"
   ]
  },
  {
   "cell_type": "code",
   "execution_count": 2,
   "id": "afd86441",
   "metadata": {},
   "outputs": [],
   "source": [
    "from tensorflow.keras.models import Sequential\n",
    "from tensorflow.keras.layers import Dense,Dropout,BatchNormalization,GlobalMaxPooling2D,MaxPooling2D,Conv2D\n",
    "from tensorflow.keras.optimizers import Adam,RMSprop\n",
    "from tensorflow.keras.layers import Activation\n",
    "\n",
    "model=Sequential()\n",
    "\n",
    "model.add(Conv2D(64,(3,3),activation='relu',input_shape=xtrain[0].shape,padding='same'))\n",
    "model.add(BatchNormalization())\n",
    "model.add(Conv2D(64,(3,3),activation='relu',padding='same'))\n",
    "model.add(BatchNormalization())\n",
    "model.add(MaxPooling2D((2,2)))\n",
    "model.add(Dropout(0.3))\n",
    "\n",
    "model.add(Conv2D(128,(3,3),activation='relu',padding='same'))\n",
    "model.add(BatchNormalization())\n",
    "model.add(Conv2D(128,(3,3),activation='relu',padding='same'))\n",
    "model.add(BatchNormalization())\n",
    "model.add(MaxPooling2D((2,2)))\n",
    "model.add(Dropout(0.3))\n",
    "\n",
    "model.add(Conv2D(256,(3,3),activation='relu',padding='same'))\n",
    "model.add(BatchNormalization())\n",
    "model.add(MaxPooling2D((2,2)))\n",
    "model.add(Conv2D(256,(3,3),activation='relu',padding='same'))\n",
    "model.add(BatchNormalization())\n",
    "model.add(MaxPooling2D((2,2)))\n",
    "model.add(Dropout(0.3))\n",
    "\n",
    "model.add(GlobalMaxPooling2D())\n",
    "model.add(Dropout(0.3))\n",
    "model.add(Dense(512,activation='relu'))\n",
    "model.add(Dropout(0.3))\n",
    "model.add(Dense(10,activation='softmax'))"
   ]
  },
  {
   "cell_type": "code",
   "execution_count": 3,
   "id": "f852e009",
   "metadata": {},
   "outputs": [
    {
     "name": "stdout",
     "output_type": "stream",
     "text": [
      "Epoch 1/50\n",
      "1563/1563 [==============================] - 25s 14ms/step - loss: 2.0736 - accuracy: 0.3095 - val_loss: 1.8209 - val_accuracy: 0.3670\n",
      "Epoch 2/50\n",
      "1563/1563 [==============================] - 21s 13ms/step - loss: 1.5010 - accuracy: 0.4510 - val_loss: 1.8319 - val_accuracy: 0.3941\n",
      "Epoch 3/50\n",
      "1563/1563 [==============================] - 21s 13ms/step - loss: 1.2752 - accuracy: 0.5391 - val_loss: 1.4907 - val_accuracy: 0.4835\n",
      "Epoch 4/50\n",
      "1563/1563 [==============================] - 21s 14ms/step - loss: 1.1206 - accuracy: 0.5960 - val_loss: 1.0667 - val_accuracy: 0.6258\n",
      "Epoch 5/50\n",
      "1563/1563 [==============================] - 22s 14ms/step - loss: 1.0107 - accuracy: 0.6388 - val_loss: 1.1237 - val_accuracy: 0.5992\n",
      "Epoch 6/50\n",
      "1563/1563 [==============================] - 23s 14ms/step - loss: 0.9167 - accuracy: 0.6756 - val_loss: 0.8238 - val_accuracy: 0.7107\n",
      "Epoch 7/50\n",
      "1563/1563 [==============================] - 22s 14ms/step - loss: 0.8419 - accuracy: 0.7038 - val_loss: 0.7816 - val_accuracy: 0.7288\n",
      "Epoch 8/50\n",
      "1563/1563 [==============================] - 22s 14ms/step - loss: 0.7825 - accuracy: 0.7256 - val_loss: 0.7168 - val_accuracy: 0.7505\n",
      "Epoch 9/50\n",
      "1563/1563 [==============================] - 22s 14ms/step - loss: 0.7295 - accuracy: 0.7459 - val_loss: 0.7020 - val_accuracy: 0.7571\n",
      "Epoch 10/50\n",
      "1563/1563 [==============================] - 22s 14ms/step - loss: 0.6851 - accuracy: 0.7611 - val_loss: 0.6630 - val_accuracy: 0.7733\n",
      "Epoch 11/50\n",
      "1563/1563 [==============================] - 22s 14ms/step - loss: 0.6500 - accuracy: 0.7739 - val_loss: 0.6368 - val_accuracy: 0.7805\n",
      "Epoch 12/50\n",
      "1563/1563 [==============================] - 23s 14ms/step - loss: 0.6079 - accuracy: 0.7891 - val_loss: 0.5773 - val_accuracy: 0.7978\n",
      "Epoch 13/50\n",
      "1563/1563 [==============================] - 23s 14ms/step - loss: 0.5779 - accuracy: 0.7985 - val_loss: 0.5606 - val_accuracy: 0.8075\n",
      "Epoch 14/50\n",
      "1563/1563 [==============================] - 23s 15ms/step - loss: 0.5434 - accuracy: 0.8103 - val_loss: 0.5563 - val_accuracy: 0.8118\n",
      "Epoch 15/50\n",
      "1563/1563 [==============================] - 22s 14ms/step - loss: 0.5189 - accuracy: 0.8189 - val_loss: 0.5352 - val_accuracy: 0.8176\n",
      "Epoch 16/50\n",
      "1563/1563 [==============================] - 23s 15ms/step - loss: 0.4971 - accuracy: 0.8277 - val_loss: 0.5244 - val_accuracy: 0.8262\n",
      "Epoch 17/50\n",
      "1563/1563 [==============================] - 23s 15ms/step - loss: 0.4749 - accuracy: 0.8346 - val_loss: 0.4981 - val_accuracy: 0.8307\n",
      "Epoch 18/50\n",
      "1563/1563 [==============================] - 23s 14ms/step - loss: 0.4549 - accuracy: 0.8426 - val_loss: 0.4763 - val_accuracy: 0.8359\n",
      "Epoch 19/50\n",
      "1563/1563 [==============================] - 23s 15ms/step - loss: 0.4344 - accuracy: 0.8497 - val_loss: 0.4856 - val_accuracy: 0.8372\n",
      "Epoch 20/50\n",
      "1563/1563 [==============================] - 23s 15ms/step - loss: 0.4156 - accuracy: 0.8542 - val_loss: 0.4816 - val_accuracy: 0.8374\n",
      "Epoch 21/50\n",
      "1563/1563 [==============================] - 23s 15ms/step - loss: 0.3940 - accuracy: 0.8632 - val_loss: 0.4832 - val_accuracy: 0.8383\n",
      "Epoch 22/50\n",
      "1563/1563 [==============================] - 23s 15ms/step - loss: 0.3798 - accuracy: 0.8698 - val_loss: 0.5145 - val_accuracy: 0.8275\n",
      "Epoch 23/50\n",
      "1563/1563 [==============================] - 23s 15ms/step - loss: 0.3671 - accuracy: 0.8736 - val_loss: 0.4774 - val_accuracy: 0.8405\n",
      "Epoch 24/50\n",
      "1563/1563 [==============================] - 23s 15ms/step - loss: 0.3523 - accuracy: 0.8789 - val_loss: 0.4445 - val_accuracy: 0.8492\n",
      "Epoch 25/50\n",
      "1563/1563 [==============================] - 23s 15ms/step - loss: 0.3374 - accuracy: 0.8824 - val_loss: 0.4863 - val_accuracy: 0.8391\n",
      "Epoch 26/50\n",
      "1563/1563 [==============================] - 23s 15ms/step - loss: 0.3218 - accuracy: 0.8880 - val_loss: 0.4602 - val_accuracy: 0.8490\n",
      "Epoch 27/50\n",
      "1563/1563 [==============================] - 23s 15ms/step - loss: 0.3114 - accuracy: 0.8891 - val_loss: 0.4464 - val_accuracy: 0.8546\n",
      "Epoch 28/50\n",
      "1563/1563 [==============================] - 23s 15ms/step - loss: 0.3013 - accuracy: 0.8936 - val_loss: 0.4801 - val_accuracy: 0.8452\n",
      "Epoch 29/50\n",
      "1563/1563 [==============================] - 23s 15ms/step - loss: 0.2930 - accuracy: 0.8971 - val_loss: 0.4994 - val_accuracy: 0.8406\n",
      "Epoch 30/50\n",
      "1563/1563 [==============================] - 23s 15ms/step - loss: 0.2852 - accuracy: 0.9005 - val_loss: 0.4492 - val_accuracy: 0.8577\n",
      "Epoch 31/50\n",
      "1563/1563 [==============================] - 23s 15ms/step - loss: 0.2728 - accuracy: 0.9044 - val_loss: 0.4146 - val_accuracy: 0.8634\n",
      "Epoch 32/50\n",
      "1563/1563 [==============================] - 23s 15ms/step - loss: 0.2644 - accuracy: 0.9072 - val_loss: 0.4812 - val_accuracy: 0.8537\n",
      "Epoch 33/50\n",
      "1563/1563 [==============================] - 23s 15ms/step - loss: 0.2555 - accuracy: 0.9121 - val_loss: 0.4536 - val_accuracy: 0.8605\n",
      "Epoch 34/50\n",
      "1563/1563 [==============================] - 23s 15ms/step - loss: 0.2466 - accuracy: 0.9125 - val_loss: 0.4190 - val_accuracy: 0.8679\n",
      "Epoch 35/50\n",
      "1563/1563 [==============================] - 23s 15ms/step - loss: 0.2396 - accuracy: 0.9163 - val_loss: 0.4874 - val_accuracy: 0.8503\n",
      "Epoch 36/50\n",
      "1563/1563 [==============================] - 23s 15ms/step - loss: 0.2314 - accuracy: 0.9186 - val_loss: 0.4551 - val_accuracy: 0.8610\n",
      "Epoch 37/50\n",
      "1563/1563 [==============================] - 23s 15ms/step - loss: 0.2252 - accuracy: 0.9206 - val_loss: 0.4469 - val_accuracy: 0.8614\n",
      "Epoch 38/50\n",
      "1563/1563 [==============================] - 23s 15ms/step - loss: 0.2241 - accuracy: 0.9220 - val_loss: 0.4157 - val_accuracy: 0.8679\n",
      "Epoch 39/50\n",
      "1563/1563 [==============================] - 23s 15ms/step - loss: 0.2132 - accuracy: 0.9253 - val_loss: 0.4828 - val_accuracy: 0.8571\n",
      "Epoch 40/50\n",
      "1563/1563 [==============================] - 23s 15ms/step - loss: 0.2034 - accuracy: 0.9288 - val_loss: 0.4246 - val_accuracy: 0.8731\n",
      "Epoch 41/50\n",
      "1563/1563 [==============================] - 23s 15ms/step - loss: 0.1998 - accuracy: 0.9296 - val_loss: 0.4628 - val_accuracy: 0.8608\n",
      "Epoch 42/50\n",
      "1563/1563 [==============================] - 23s 15ms/step - loss: 0.1934 - accuracy: 0.9314 - val_loss: 0.4470 - val_accuracy: 0.8684\n",
      "Epoch 43/50\n",
      "1563/1563 [==============================] - 23s 15ms/step - loss: 0.1880 - accuracy: 0.9336 - val_loss: 0.4683 - val_accuracy: 0.8620\n",
      "Epoch 44/50\n",
      "1563/1563 [==============================] - 23s 15ms/step - loss: 0.1881 - accuracy: 0.9340 - val_loss: 0.4747 - val_accuracy: 0.8581\n",
      "Epoch 45/50\n",
      "1563/1563 [==============================] - 23s 15ms/step - loss: 0.1806 - accuracy: 0.9362 - val_loss: 0.4382 - val_accuracy: 0.8702\n",
      "Epoch 46/50\n",
      "1563/1563 [==============================] - 23s 15ms/step - loss: 0.1757 - accuracy: 0.9367 - val_loss: 0.4527 - val_accuracy: 0.8728\n",
      "Epoch 47/50\n",
      "1563/1563 [==============================] - 23s 15ms/step - loss: 0.1708 - accuracy: 0.9399 - val_loss: 0.4902 - val_accuracy: 0.8576\n",
      "Epoch 48/50\n",
      "1563/1563 [==============================] - 23s 15ms/step - loss: 0.1682 - accuracy: 0.9407 - val_loss: 0.4687 - val_accuracy: 0.8639\n",
      "Epoch 49/50\n",
      "1563/1563 [==============================] - 23s 15ms/step - loss: 0.1637 - accuracy: 0.9423 - val_loss: 0.4452 - val_accuracy: 0.8755\n",
      "Epoch 50/50\n",
      "1563/1563 [==============================] - 23s 15ms/step - loss: 0.1573 - accuracy: 0.9441 - val_loss: 0.4831 - val_accuracy: 0.8630\n"
     ]
    },
    {
     "data": {
      "text/plain": [
       "<keras.callbacks.History at 0x222d3e95250>"
      ]
     },
     "execution_count": 3,
     "metadata": {},
     "output_type": "execute_result"
    }
   ],
   "source": [
    "adam=Adam(learning_rate=0.0001)\n",
    "\n",
    "model.compile(loss='sparse_categorical_crossentropy',optimizer=adam,metrics=['accuracy'])\n",
    "model.fit(xtrain,ytrain,epochs=50,validation_data=(xtest,ytest))"
   ]
  },
  {
   "cell_type": "code",
   "execution_count": 4,
   "id": "121e01a1",
   "metadata": {},
   "outputs": [
    {
     "data": {
      "text/plain": [
       "<AxesSubplot:>"
      ]
     },
     "execution_count": 4,
     "metadata": {},
     "output_type": "execute_result"
    },
    {
     "data": {
      "image/png": "[encoded data removed]",
      "text/plain": [
       "<Figure size 432x288 with 1 Axes>"
      ]
     },
     "metadata": {
      "needs_background": "light"
     },
     "output_type": "display_data"
    },
    {
     "data": {
      "image/png": "[encoded data removed]",
      "text/plain": [
       "<Figure size 432x288 with 1 Axes>"
      ]
     },
     "metadata": {
      "needs_background": "light"
     },
     "output_type": "display_data"
    }
   ],
   "source": [
    "pd.DataFrame(model.history.history)[['accuracy','val_accuracy']].plot()\n",
    "pd.DataFrame(model.history.history)[['loss','val_loss']].plot()"
   ]
  },
  {
   "cell_type": "code",
   "execution_count": 20,
   "id": "24e29dd4",
   "metadata": {},
   "outputs": [],
   "source": [
    "from tensorflow.keras.preprocessing.image import ImageDataGenerator\n",
    "\n",
    "datagen=ImageDataGenerator(rotation_range=45,horizontal_flip=True,\n",
    "                           width_shift_range=0.2,height_shift_range=0.2)\n",
    "\n",
    "train_gen=datagen.flow(xtrain,ytrain)\n",
    "test_gen=datagen.flow(xtest,ytest)"
   ]
  },
  {
   "cell_type": "code",
   "execution_count": 27,
   "id": "6acf4a92",
   "metadata": {},
   "outputs": [],
   "source": [
    "from tensorflow.keras.models import Sequential\n",
    "from tensorflow.keras.layers import Dense,Dropout,BatchNormalization,GlobalMaxPooling2D,MaxPooling2D,Conv2D\n",
    "from tensorflow.keras.optimizers import Adam,RMSprop\n",
    "from tensorflow.keras.layers import Activation\n",
    "\n",
    "model=Sequential()\n",
    "\n",
    "model.add(Conv2D(64,(3,3),activation='relu',input_shape=xtrain[0].shape,padding='same'))\n",
    "model.add(BatchNormalization())\n",
    "model.add(Conv2D(64,(3,3),activation='relu',padding='same'))\n",
    "model.add(BatchNormalization())\n",
    "model.add(MaxPooling2D((2,2)))\n",
    "model.add(Dropout(0.3))\n",
    "\n",
    "model.add(Conv2D(128,(3,3),activation='relu',padding='same'))\n",
    "model.add(BatchNormalization())\n",
    "model.add(Conv2D(128,(3,3),activation='relu',padding='same'))\n",
    "model.add(BatchNormalization())\n",
    "model.add(MaxPooling2D((2,2)))\n",
    "model.add(Dropout(0.3))\n",
    "\n",
    "model.add(Conv2D(256,(3,3),activation='relu',padding='same'))\n",
    "model.add(BatchNormalization())\n",
    "model.add(MaxPooling2D((2,2)))\n",
    "model.add(Conv2D(256,(3,3),activation='relu',padding='same'))\n",
    "model.add(BatchNormalization())\n",
    "model.add(MaxPooling2D((2,2)))\n",
    "model.add(Dropout(0.3))\n",
    "\n",
    "model.add(GlobalMaxPooling2D())\n",
    "model.add(Dropout(0.3))\n",
    "model.add(Dense(512,activation='relu'))\n",
    "model.add(Dropout(0.3))\n",
    "model.add(Dense(10,activation='softmax'))\n",
    "\n"
   ]
  },
  {
   "cell_type": "code",
   "execution_count": 28,
   "id": "caa1ee89",
   "metadata": {},
   "outputs": [
    {
     "name": "stdout",
     "output_type": "stream",
     "text": [
      "Epoch 1/100\n",
      "1563/1563 [==============================] - 25s 16ms/step - loss: 1.8126 - accuracy: 0.3489 - val_loss: 1.6979 - val_accuracy: 0.4072\n",
      "Epoch 2/100\n",
      "1563/1563 [==============================] - 25s 16ms/step - loss: 1.4362 - accuracy: 0.4849 - val_loss: 1.4641 - val_accuracy: 0.4873\n",
      "Epoch 3/100\n",
      "1563/1563 [==============================] - 25s 16ms/step - loss: 1.2774 - accuracy: 0.5499 - val_loss: 1.2620 - val_accuracy: 0.5808\n",
      "Epoch 4/100\n",
      "1563/1563 [==============================] - 25s 16ms/step - loss: 1.1657 - accuracy: 0.5929 - val_loss: 1.1194 - val_accuracy: 0.6304\n",
      "Epoch 5/100\n",
      "1563/1563 [==============================] - 26s 17ms/step - loss: 1.0896 - accuracy: 0.6251 - val_loss: 1.0678 - val_accuracy: 0.6442\n",
      "Epoch 6/100\n",
      "1563/1563 [==============================] - 25s 16ms/step - loss: 1.0310 - accuracy: 0.6474 - val_loss: 1.0066 - val_accuracy: 0.6784\n",
      "Epoch 7/100\n",
      "1563/1563 [==============================] - 25s 16ms/step - loss: 0.9794 - accuracy: 0.6666 - val_loss: 1.0004 - val_accuracy: 0.6668\n",
      "Epoch 8/100\n",
      "1563/1563 [==============================] - 26s 17ms/step - loss: 0.9400 - accuracy: 0.6825 - val_loss: 1.1515 - val_accuracy: 0.6635\n",
      "Epoch 9/100\n",
      "1563/1563 [==============================] - 25s 16ms/step - loss: 0.9018 - accuracy: 0.6932 - val_loss: 1.0030 - val_accuracy: 0.7077\n",
      "Epoch 10/100\n",
      "1563/1563 [==============================] - 26s 17ms/step - loss: 0.8796 - accuracy: 0.6985 - val_loss: 0.9207 - val_accuracy: 0.7156\n",
      "Epoch 11/100\n",
      "1563/1563 [==============================] - 26s 17ms/step - loss: 0.8430 - accuracy: 0.7123 - val_loss: 0.9309 - val_accuracy: 0.7400\n",
      "Epoch 12/100\n",
      "1563/1563 [==============================] - 26s 16ms/step - loss: 0.8168 - accuracy: 0.7224 - val_loss: 1.0473 - val_accuracy: 0.7190\n",
      "Epoch 13/100\n",
      "1563/1563 [==============================] - 26s 17ms/step - loss: 0.8010 - accuracy: 0.7278 - val_loss: 0.9384 - val_accuracy: 0.7187\n",
      "Epoch 14/100\n",
      "1563/1563 [==============================] - 26s 17ms/step - loss: 0.7864 - accuracy: 0.7337 - val_loss: 1.1761 - val_accuracy: 0.6925\n",
      "Epoch 15/100\n",
      "1563/1563 [==============================] - 26s 16ms/step - loss: 0.7623 - accuracy: 0.7431 - val_loss: 0.8100 - val_accuracy: 0.7600\n",
      "Epoch 16/100\n",
      "1563/1563 [==============================] - 26s 17ms/step - loss: 0.7463 - accuracy: 0.7482 - val_loss: 1.0973 - val_accuracy: 0.7278\n",
      "Epoch 17/100\n",
      "1563/1563 [==============================] - 26s 17ms/step - loss: 0.7374 - accuracy: 0.7493 - val_loss: 1.0425 - val_accuracy: 0.7439\n",
      "Epoch 18/100\n",
      "1563/1563 [==============================] - 26s 17ms/step - loss: 0.7326 - accuracy: 0.7522 - val_loss: 1.1762 - val_accuracy: 0.7236\n",
      "Epoch 19/100\n",
      "1563/1563 [==============================] - 26s 17ms/step - loss: 0.7113 - accuracy: 0.7605 - val_loss: 1.1409 - val_accuracy: 0.7332\n",
      "Epoch 20/100\n",
      "1563/1563 [==============================] - 26s 17ms/step - loss: 0.6992 - accuracy: 0.7633 - val_loss: 0.8347 - val_accuracy: 0.7877\n",
      "Epoch 21/100\n",
      "1563/1563 [==============================] - 26s 16ms/step - loss: 0.6911 - accuracy: 0.7653 - val_loss: 1.0902 - val_accuracy: 0.7460\n",
      "Epoch 22/100\n",
      "1563/1563 [==============================] - 26s 16ms/step - loss: 0.6853 - accuracy: 0.7679 - val_loss: 1.3275 - val_accuracy: 0.6938\n",
      "Epoch 23/100\n",
      "1563/1563 [==============================] - 26s 17ms/step - loss: 0.6832 - accuracy: 0.7714 - val_loss: 0.9414 - val_accuracy: 0.7606\n",
      "Epoch 24/100\n",
      "1563/1563 [==============================] - 26s 17ms/step - loss: 0.6605 - accuracy: 0.7772 - val_loss: 0.8546 - val_accuracy: 0.7873\n",
      "Epoch 25/100\n",
      "1563/1563 [==============================] - 27s 17ms/step - loss: 0.6574 - accuracy: 0.7797 - val_loss: 0.8053 - val_accuracy: 0.7712\n",
      "Epoch 26/100\n",
      "1563/1563 [==============================] - 27s 17ms/step - loss: 0.6514 - accuracy: 0.7796 - val_loss: 0.9024 - val_accuracy: 0.7842\n",
      "Epoch 27/100\n",
      "1563/1563 [==============================] - 26s 16ms/step - loss: 0.6467 - accuracy: 0.7819 - val_loss: 0.9517 - val_accuracy: 0.7804\n",
      "Epoch 28/100\n",
      "1563/1563 [==============================] - 26s 17ms/step - loss: 0.6376 - accuracy: 0.7838 - val_loss: 0.8982 - val_accuracy: 0.7860\n",
      "Epoch 29/100\n",
      "1563/1563 [==============================] - 26s 17ms/step - loss: 0.6340 - accuracy: 0.7877 - val_loss: 0.7777 - val_accuracy: 0.7996\n",
      "Epoch 30/100\n",
      "1563/1563 [==============================] - 26s 16ms/step - loss: 0.6257 - accuracy: 0.7893 - val_loss: 0.8924 - val_accuracy: 0.7816\n",
      "Epoch 31/100\n",
      "1563/1563 [==============================] - 26s 16ms/step - loss: 0.6206 - accuracy: 0.7895 - val_loss: 0.8460 - val_accuracy: 0.7840\n",
      "Epoch 32/100\n",
      "1563/1563 [==============================] - 26s 17ms/step - loss: 0.6109 - accuracy: 0.7941 - val_loss: 0.7312 - val_accuracy: 0.8057\n",
      "Epoch 33/100\n",
      "1563/1563 [==============================] - 26s 16ms/step - loss: 0.6082 - accuracy: 0.7960 - val_loss: 0.6876 - val_accuracy: 0.8156\n",
      "Epoch 34/100\n",
      "1563/1563 [==============================] - 26s 16ms/step - loss: 0.5993 - accuracy: 0.7973 - val_loss: 0.8165 - val_accuracy: 0.7904\n",
      "Epoch 35/100\n",
      "1563/1563 [==============================] - 26s 17ms/step - loss: 0.5976 - accuracy: 0.7978 - val_loss: 0.7748 - val_accuracy: 0.79070 - accuracy: 0.\n",
      "Epoch 36/100\n",
      "1563/1563 [==============================] - 26s 17ms/step - loss: 0.5957 - accuracy: 0.7986 - val_loss: 0.8050 - val_accuracy: 0.7838\n",
      "Epoch 37/100\n",
      "1563/1563 [==============================] - 26s 17ms/step - loss: 0.5870 - accuracy: 0.8030 - val_loss: 0.7466 - val_accuracy: 0.8009\n",
      "Epoch 38/100\n",
      "1563/1563 [==============================] - 27s 17ms/step - loss: 0.5784 - accuracy: 0.8052 - val_loss: 0.6607 - val_accuracy: 0.8228\n",
      "Epoch 39/100\n",
      "1563/1563 [==============================] - 26s 17ms/step - loss: 0.5856 - accuracy: 0.8014 - val_loss: 0.7119 - val_accuracy: 0.8130\n",
      "Epoch 40/100\n",
      "1563/1563 [==============================] - 26s 16ms/step - loss: 0.5701 - accuracy: 0.8071 - val_loss: 0.6481 - val_accuracy: 0.8190\n",
      "Epoch 41/100\n",
      "1563/1563 [==============================] - 26s 17ms/step - loss: 0.5665 - accuracy: 0.8084 - val_loss: 0.7272 - val_accuracy: 0.8092\n",
      "Epoch 42/100\n",
      "1563/1563 [==============================] - 26s 17ms/step - loss: 0.5694 - accuracy: 0.8070 - val_loss: 0.7925 - val_accuracy: 0.7975\n",
      "Epoch 43/100\n",
      "1563/1563 [==============================] - 26s 16ms/step - loss: 0.5653 - accuracy: 0.8078 - val_loss: 0.6851 - val_accuracy: 0.8225\n",
      "Epoch 44/100\n",
      "1563/1563 [==============================] - 26s 17ms/step - loss: 0.5604 - accuracy: 0.8093 - val_loss: 0.7715 - val_accuracy: 0.7992\n",
      "Epoch 45/100\n",
      "1563/1563 [==============================] - 26s 16ms/step - loss: 0.5536 - accuracy: 0.8130 - val_loss: 0.7169 - val_accuracy: 0.8139\n",
      "Epoch 46/100\n",
      "1563/1563 [==============================] - 26s 17ms/step - loss: 0.5461 - accuracy: 0.8150 - val_loss: 0.6274 - val_accuracy: 0.8219\n",
      "Epoch 47/100\n",
      "1563/1563 [==============================] - 26s 17ms/step - loss: 0.5418 - accuracy: 0.8164 - val_loss: 0.5869 - val_accuracy: 0.8328\n",
      "Epoch 48/100\n",
      "1563/1563 [==============================] - 26s 17ms/step - loss: 0.5485 - accuracy: 0.8139 - val_loss: 0.5956 - val_accuracy: 0.8370\n",
      "Epoch 49/100\n",
      "1563/1563 [==============================] - 26s 17ms/step - loss: 0.5409 - accuracy: 0.8164 - val_loss: 0.6829 - val_accuracy: 0.8243\n",
      "Epoch 50/100\n",
      "1563/1563 [==============================] - 26s 17ms/step - loss: 0.5354 - accuracy: 0.8182 - val_loss: 0.7490 - val_accuracy: 0.8022\n",
      "Epoch 51/100\n",
      "1563/1563 [==============================] - 26s 16ms/step - loss: 0.5329 - accuracy: 0.8204 - val_loss: 0.6968 - val_accuracy: 0.8230\n",
      "Epoch 52/100\n",
      "1563/1563 [==============================] - 26s 17ms/step - loss: 0.5270 - accuracy: 0.8220 - val_loss: 0.6040 - val_accuracy: 0.8358\n",
      "Epoch 53/100\n",
      "1563/1563 [==============================] - 26s 17ms/step - loss: 0.5234 - accuracy: 0.8232 - val_loss: 0.6184 - val_accuracy: 0.8286\n",
      "Epoch 54/100\n",
      "1563/1563 [==============================] - 26s 17ms/step - loss: 0.5205 - accuracy: 0.8258 - val_loss: 0.6761 - val_accuracy: 0.8223\n",
      "Epoch 55/100\n",
      "1563/1563 [==============================] - 26s 17ms/step - loss: 0.5222 - accuracy: 0.8244 - val_loss: 0.6094 - val_accuracy: 0.8379\n",
      "Epoch 56/100\n"
     ]
    },
    {
     "name": "stdout",
     "output_type": "stream",
     "text": [
      "1563/1563 [==============================] - 26s 17ms/step - loss: 0.5183 - accuracy: 0.8246 - val_loss: 0.6645 - val_accuracy: 0.8227\n",
      "Epoch 57/100\n",
      "1563/1563 [==============================] - 26s 16ms/step - loss: 0.5171 - accuracy: 0.8272 - val_loss: 0.6050 - val_accuracy: 0.8362\n",
      "Epoch 58/100\n",
      "1563/1563 [==============================] - 26s 17ms/step - loss: 0.5127 - accuracy: 0.8262 - val_loss: 0.6798 - val_accuracy: 0.8153\n",
      "Epoch 59/100\n",
      "1563/1563 [==============================] - 26s 16ms/step - loss: 0.5156 - accuracy: 0.8245 - val_loss: 0.6036 - val_accuracy: 0.8307\n",
      "Epoch 60/100\n",
      "1563/1563 [==============================] - 26s 17ms/step - loss: 0.5084 - accuracy: 0.8271 - val_loss: 0.6029 - val_accuracy: 0.8339\n",
      "Epoch 61/100\n",
      "1563/1563 [==============================] - 26s 16ms/step - loss: 0.5092 - accuracy: 0.8284 - val_loss: 0.6272 - val_accuracy: 0.8306\n",
      "Epoch 62/100\n",
      "1563/1563 [==============================] - 26s 17ms/step - loss: 0.5013 - accuracy: 0.8312 - val_loss: 0.6898 - val_accuracy: 0.8250\n",
      "Epoch 63/100\n",
      "1563/1563 [==============================] - 26s 17ms/step - loss: 0.5002 - accuracy: 0.8313 - val_loss: 0.6042 - val_accuracy: 0.8329\n",
      "Epoch 64/100\n",
      "1563/1563 [==============================] - 26s 17ms/step - loss: 0.4989 - accuracy: 0.8326 - val_loss: 0.6209 - val_accuracy: 0.8326\n",
      "Epoch 65/100\n",
      "1563/1563 [==============================] - 26s 17ms/step - loss: 0.4946 - accuracy: 0.8329 - val_loss: 0.5910 - val_accuracy: 0.8310\n",
      "Epoch 66/100\n",
      "1563/1563 [==============================] - 26s 17ms/step - loss: 0.4924 - accuracy: 0.8337 - val_loss: 0.7057 - val_accuracy: 0.8070\n",
      "Epoch 67/100\n",
      "1563/1563 [==============================] - 26s 16ms/step - loss: 0.4948 - accuracy: 0.8325 - val_loss: 0.5847 - val_accuracy: 0.8357\n",
      "Epoch 68/100\n",
      "1563/1563 [==============================] - 26s 17ms/step - loss: 0.4934 - accuracy: 0.8325 - val_loss: 0.6460 - val_accuracy: 0.8266\n",
      "Epoch 69/100\n",
      "1563/1563 [==============================] - 26s 17ms/step - loss: 0.4892 - accuracy: 0.8353 - val_loss: 0.6593 - val_accuracy: 0.8158\n",
      "Epoch 70/100\n",
      "1563/1563 [==============================] - 26s 17ms/step - loss: 0.4863 - accuracy: 0.8371 - val_loss: 0.5605 - val_accuracy: 0.8374\n",
      "Epoch 71/100\n",
      "1563/1563 [==============================] - 26s 17ms/step - loss: 0.4834 - accuracy: 0.8352 - val_loss: 0.6167 - val_accuracy: 0.8325\n",
      "Epoch 72/100\n",
      "1563/1563 [==============================] - 26s 17ms/step - loss: 0.4846 - accuracy: 0.8355 - val_loss: 0.5730 - val_accuracy: 0.8536\n",
      "Epoch 73/100\n",
      "1563/1563 [==============================] - 26s 16ms/step - loss: 0.4811 - accuracy: 0.8358 - val_loss: 0.5433 - val_accuracy: 0.8449\n",
      "Epoch 74/100\n",
      "1563/1563 [==============================] - 26s 16ms/step - loss: 0.4824 - accuracy: 0.8357 - val_loss: 0.5406 - val_accuracy: 0.8479\n",
      "Epoch 75/100\n",
      "1563/1563 [==============================] - 26s 17ms/step - loss: 0.4780 - accuracy: 0.8380 - val_loss: 0.5336 - val_accuracy: 0.8475\n",
      "Epoch 76/100\n",
      "1563/1563 [==============================] - 26s 16ms/step - loss: 0.4743 - accuracy: 0.8377 - val_loss: 0.6474 - val_accuracy: 0.8264\n",
      "Epoch 77/100\n",
      "1563/1563 [==============================] - 26s 17ms/step - loss: 0.4771 - accuracy: 0.8387 - val_loss: 0.5127 - val_accuracy: 0.8510\n",
      "Epoch 78/100\n",
      "1563/1563 [==============================] - 26s 17ms/step - loss: 0.4672 - accuracy: 0.8425 - val_loss: 0.5575 - val_accuracy: 0.8387\n",
      "Epoch 79/100\n",
      "1563/1563 [==============================] - 26s 16ms/step - loss: 0.4702 - accuracy: 0.8405 - val_loss: 0.5279 - val_accuracy: 0.8421\n",
      "Epoch 80/100\n",
      "1563/1563 [==============================] - 26s 17ms/step - loss: 0.4665 - accuracy: 0.8422 - val_loss: 0.5147 - val_accuracy: 0.8540\n",
      "Epoch 81/100\n",
      "1563/1563 [==============================] - 26s 17ms/step - loss: 0.4602 - accuracy: 0.8423 - val_loss: 0.9816 - val_accuracy: 0.7786\n",
      "Epoch 82/100\n",
      "1563/1563 [==============================] - 26s 16ms/step - loss: 0.4666 - accuracy: 0.8421 - val_loss: 0.5251 - val_accuracy: 0.8446\n",
      "Epoch 83/100\n",
      "1563/1563 [==============================] - 26s 17ms/step - loss: 0.4638 - accuracy: 0.8423 - val_loss: 0.5196 - val_accuracy: 0.8553\n",
      "Epoch 84/100\n",
      "1563/1563 [==============================] - 26s 16ms/step - loss: 0.4656 - accuracy: 0.8429 - val_loss: 0.5664 - val_accuracy: 0.8468\n",
      "Epoch 85/100\n",
      "1563/1563 [==============================] - 26s 17ms/step - loss: 0.4597 - accuracy: 0.8449 - val_loss: 0.5015 - val_accuracy: 0.8557\n",
      "Epoch 86/100\n",
      "1563/1563 [==============================] - 27s 17ms/step - loss: 0.4542 - accuracy: 0.8464 - val_loss: 0.5387 - val_accuracy: 0.8449\n",
      "Epoch 87/100\n",
      "1563/1563 [==============================] - 26s 17ms/step - loss: 0.4585 - accuracy: 0.8450 - val_loss: 0.5581 - val_accuracy: 0.8420\n",
      "Epoch 88/100\n",
      "1563/1563 [==============================] - 26s 17ms/step - loss: 0.4503 - accuracy: 0.8473 - val_loss: 0.5747 - val_accuracy: 0.8365\n",
      "Epoch 89/100\n",
      "1563/1563 [==============================] - 27s 17ms/step - loss: 0.4561 - accuracy: 0.8458 - val_loss: 0.5463 - val_accuracy: 0.8493\n",
      "Epoch 90/100\n",
      "1563/1563 [==============================] - 26s 17ms/step - loss: 0.4523 - accuracy: 0.8471 - val_loss: 0.5178 - val_accuracy: 0.8510\n",
      "Epoch 91/100\n",
      "1563/1563 [==============================] - 26s 17ms/step - loss: 0.4502 - accuracy: 0.8466 - val_loss: 0.5208 - val_accuracy: 0.8527\n",
      "Epoch 92/100\n",
      "1563/1563 [==============================] - 26s 17ms/step - loss: 0.4436 - accuracy: 0.8494 - val_loss: 0.5868 - val_accuracy: 0.8474\n",
      "Epoch 93/100\n",
      "1563/1563 [==============================] - 26s 17ms/step - loss: 0.4486 - accuracy: 0.8477 - val_loss: 0.5745 - val_accuracy: 0.8441\n",
      "Epoch 94/100\n",
      "1563/1563 [==============================] - 26s 17ms/step - loss: 0.4442 - accuracy: 0.8506 - val_loss: 0.5116 - val_accuracy: 0.8500\n",
      "Epoch 95/100\n",
      "1563/1563 [==============================] - 26s 17ms/step - loss: 0.4469 - accuracy: 0.8473 - val_loss: 0.5137 - val_accuracy: 0.8525\n",
      "Epoch 96/100\n",
      "1563/1563 [==============================] - 26s 17ms/step - loss: 0.4448 - accuracy: 0.8504 - val_loss: 0.5860 - val_accuracy: 0.8401\n",
      "Epoch 97/100\n",
      "1563/1563 [==============================] - 26s 17ms/step - loss: 0.4383 - accuracy: 0.8504 - val_loss: 0.5349 - val_accuracy: 0.8447\n",
      "Epoch 98/100\n",
      "1563/1563 [==============================] - 26s 17ms/step - loss: 0.4421 - accuracy: 0.8507 - val_loss: 0.5229 - val_accuracy: 0.8566\n",
      "Epoch 99/100\n",
      "1563/1563 [==============================] - 26s 17ms/step - loss: 0.4438 - accuracy: 0.8489 - val_loss: 0.5312 - val_accuracy: 0.8563\n",
      "Epoch 100/100\n",
      "1563/1563 [==============================] - 26s 16ms/step - loss: 0.4402 - accuracy: 0.8509 - val_loss: 0.4797 - val_accuracy: 0.8552\n"
     ]
    },
    {
     "data": {
      "text/plain": [
       "<keras.callbacks.History at 0x2245dd65130>"
      ]
     },
     "execution_count": 28,
     "metadata": {},
     "output_type": "execute_result"
    }
   ],
   "source": [
    "adam=Adam(learning_rate=0.01)\n",
    "model.compile(loss='sparse_categorical_crossentropy',optimizer=\"adam\",metrics=['accuracy'])\n",
    "model.fit(train_gen,epochs=100,validation_data=(test_gen),batch_size=512)"
   ]
  },
  {
   "cell_type": "code",
   "execution_count": 29,
   "id": "965ddd52",
   "metadata": {},
   "outputs": [
    {
     "data": {
      "text/plain": [
       "<AxesSubplot:>"
      ]
     },
     "execution_count": 29,
     "metadata": {},
     "output_type": "execute_result"
    },
    {
     "data": {
      "image/png": "[encoded data removed]",
      "text/plain": [
       "<Figure size 432x288 with 1 Axes>"
      ]
     },
     "metadata": {
      "needs_background": "light"
     },
     "output_type": "display_data"
    },
    {
     "data": {
      "image/png": "[encoded data removed]",
      "text/plain": [
       "<Figure size 432x288 with 1 Axes>"
      ]
     },
     "metadata": {
      "needs_background": "light"
     },
     "output_type": "display_data"
    }
   ],
   "source": [
    "pd.DataFrame(model.history.history)[['accuracy','val_accuracy']].plot()\n",
    "pd.DataFrame(model.history.history)[['loss','val_loss']].plot()"
   ]
  },
  {
   "cell_type": "code",
   "execution_count": 42,
   "id": "9e19a825",
   "metadata": {},
   "outputs": [
    {
     "data": {
      "text/plain": [
       "(16, 32, 32, 3)"
      ]
     },
     "execution_count": 42,
     "metadata": {},
     "output_type": "execute_result"
    }
   ],
   "source": [
    "train_gen[1562][0].shape"
   ]
  },
  {
   "cell_type": "code",
   "execution_count": 44,
   "id": "3eaed870",
   "metadata": {},
   "outputs": [
    {
     "data": {
      "text/plain": [
       "50000"
      ]
     },
     "execution_count": 44,
     "metadata": {},
     "output_type": "execute_result"
    }
   ],
   "source": [
    "1562*32+16"
   ]
  },
  {
   "cell_type": "code",
   "execution_count": null,
   "id": "0b4f5976",
   "metadata": {},
   "outputs": [],
   "source": []
  }
 ],
 "metadata": {
  "kernelspec": {
   "display_name": "Python 3",
   "language": "python",
   "name": "python3"
  },
  "language_info": {
   "codemirror_mode": {
    "name": "ipython",
    "version": 3
   },
   "file_extension": ".py",
   "mimetype": "text/x-python",
   "name": "python",
   "nbconvert_exporter": "python",
   "pygments_lexer": "ipython3",
   "version": "3.8.8"
  }
 },
 "nbformat": 4,
 "nbformat_minor": 5
}
